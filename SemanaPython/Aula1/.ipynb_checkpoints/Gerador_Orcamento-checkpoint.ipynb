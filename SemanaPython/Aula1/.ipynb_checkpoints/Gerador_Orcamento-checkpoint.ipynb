{
 "cells": [
  {
   "cell_type": "markdown",
   "id": "1344fe7f",
   "metadata": {},
   "source": [
    "# Meu primeiro codigo Python"
   ]
  },
  {
   "cell_type": "code",
   "execution_count": 7,
   "id": "8242f39d",
   "metadata": {},
   "outputs": [
    {
     "name": "stdout",
     "output_type": "stream",
     "text": [
      "Orcamento gerado com sucesso!\n"
     ]
    }
   ],
   "source": [
    "print(\"Orcamento gerado com sucesso!\")\n"
   ]
  },
  {
   "cell_type": "code",
   "execution_count": 8,
   "id": "3a2a46ba",
   "metadata": {},
   "outputs": [
    {
     "name": "stdout",
     "output_type": "stream",
     "text": [
      "Digite a descrição do projeto: teste\n",
      "Digite o total de horas estimadas: 10\n",
      "Digite o valor de horas trabalhada: 200\n",
      "Digite o prazo estimado: 5 meses\n"
     ]
    },
    {
     "data": {
      "text/plain": [
       "'5 meses'"
      ]
     },
     "execution_count": 8,
     "metadata": {},
     "output_type": "execute_result"
    }
   ],
   "source": [
    "input(\"Digite a descrição do projeto: \")\n",
    "input(\"Digite o total de horas estimadas: \")\n",
    "input(\"Digite o valor de horas trabalhada: \")\n",
    "input(\"Digite o prazo estimado: \")"
   ]
  },
  {
   "cell_type": "markdown",
   "id": "263626a4",
   "metadata": {},
   "source": [
    "# Guardando informações do usuário"
   ]
  },
  {
   "cell_type": "code",
   "execution_count": 14,
   "id": "3d9e708d",
   "metadata": {},
   "outputs": [
    {
     "name": "stdout",
     "output_type": "stream",
     "text": [
      "Digite a descrição do projeto: python\n",
      "Digite o total de horas estimadas: 10\n",
      "Digite o valor de horas trabalhada: 20\n",
      "Digite o prazo estimado: 5 meses\n"
     ]
    }
   ],
   "source": [
    "projeto = input(\"Digite a descrição do projeto: \")\n",
    "horas_estimadas = input(\"Digite o total de horas estimadas: \")\n",
    "valor_hora = input(\"Digite o valor de horas trabalhada: \")\n",
    "prazo = input(\"Digite o prazo estimado: \")"
   ]
  },
  {
   "cell_type": "code",
   "execution_count": null,
   "id": "b6c76250",
   "metadata": {},
   "outputs": [],
   "source": [
    "valor_total = horas_estimadas * valor_hora"
   ]
  },
  {
   "cell_type": "markdown",
   "id": "12df1201",
   "metadata": {},
   "source": [
    "# Gerando o pdf"
   ]
  },
  {
   "cell_type": "code",
   "execution_count": 16,
   "id": "f076a94f",
   "metadata": {},
   "outputs": [
    {
     "name": "stdout",
     "output_type": "stream",
     "text": [
      "Collecting fpdf\n",
      "  Downloading fpdf-1.7.2.tar.gz (39 kB)\n",
      "Building wheels for collected packages: fpdf\n",
      "  Building wheel for fpdf (setup.py): started\n",
      "  Building wheel for fpdf (setup.py): finished with status 'done'\n",
      "  Created wheel for fpdf: filename=fpdf-1.7.2-py2.py3-none-any.whl size=40722 sha256=17346d0e118e6d4b0696f20d72de1782a2c2fa5730a6d9be306e096bf123077a\n",
      "  Stored in directory: c:\\users\\flavio.bueno\\appdata\\local\\pip\\cache\\wheels\\44\\35\\8b\\86ce00cec7e4d13c5f189680ae0fa82f919bedc066c2cddae9\n",
      "Successfully built fpdf\n",
      "Installing collected packages: fpdf\n",
      "Successfully installed fpdf-1.7.2\n"
     ]
    }
   ],
   "source": [
    "!pip install fpdf"
   ]
  },
  {
   "cell_type": "code",
   "execution_count": 18,
   "id": "0d880086",
   "metadata": {},
   "outputs": [],
   "source": [
    "#carrega o fpdf\n",
    "from fpdf import FPDF"
   ]
  },
  {
   "cell_type": "code",
   "execution_count": 25,
   "id": "98aed460",
   "metadata": {},
   "outputs": [
    {
     "data": {
      "text/plain": [
       "''"
      ]
     },
     "execution_count": 25,
     "metadata": {},
     "output_type": "execute_result"
    }
   ],
   "source": [
    "#artibui o FPDF a variavel\n",
    "pdf = FPDF()\n",
    "#adicionar pagina\n",
    "pdf.add_page()\n",
    "pdf.set_font(\"Arial\")\n",
    "\n",
    "pdf.text(115,145, projeto)\n",
    "pdf.text(115,160 horas_estimadas)\n",
    "pdf.text(115,175, valor_hora)\n",
    "pdf.text(115,190, prazo)\n",
    "pdf.text(115,205, valor_total)\n",
    "\n",
    "pdf.output(\"Orcamento.pdf\")"
   ]
  },
  {
   "cell_type": "code",
   "execution_count": null,
   "id": "c4cedac9",
   "metadata": {},
   "outputs": [],
   "source": []
  }
 ],
 "metadata": {
  "kernelspec": {
   "display_name": "Python 3 (ipykernel)",
   "language": "python",
   "name": "python3"
  },
  "language_info": {
   "codemirror_mode": {
    "name": "ipython",
    "version": 3
   },
   "file_extension": ".py",
   "mimetype": "text/x-python",
   "name": "python",
   "nbconvert_exporter": "python",
   "pygments_lexer": "ipython3",
   "version": "3.9.7"
  }
 },
 "nbformat": 4,
 "nbformat_minor": 5
}
