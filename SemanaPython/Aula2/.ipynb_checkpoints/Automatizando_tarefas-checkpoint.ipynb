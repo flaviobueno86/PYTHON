{
 "cells": [
  {
   "cell_type": "markdown",
   "id": "13893171",
   "metadata": {},
   "source": [
    "# Problema\n",
    "\n",
    "- Passo 1: buscar dados dos valores das ações de forma automatica no site do Yahoo Finance\n",
    "- Passo 2: gerar as analises solicitadas pelo gestor de forma automática\n",
    "- Passo 3: enviar um email automaticamente para o gestor com resultado das análises"
   ]
  },
  {
   "cell_type": "markdown",
   "id": "27264cf0",
   "metadata": {},
   "source": [
    "# Passo 1"
   ]
  },
  {
   "cell_type": "code",
   "execution_count": 6,
   "id": "90cf5f8e",
   "metadata": {},
   "outputs": [
    {
     "name": "stdout",
     "output_type": "stream",
     "text": [
      "Requirement already satisfied: yfinance in c:\\users\\flavio.bueno\\anaconda3\\lib\\site-packages (0.1.87)\n",
      "Requirement already satisfied: appdirs>=1.4.4 in c:\\users\\flavio.bueno\\anaconda3\\lib\\site-packages (from yfinance) (1.4.4)\n",
      "Requirement already satisfied: requests>=2.26 in c:\\users\\flavio.bueno\\anaconda3\\lib\\site-packages (from yfinance) (2.26.0)\n",
      "Requirement already satisfied: lxml>=4.5.1 in c:\\users\\flavio.bueno\\anaconda3\\lib\\site-packages (from yfinance) (4.6.3)\n",
      "Requirement already satisfied: pandas>=0.24.0 in c:\\users\\flavio.bueno\\anaconda3\\lib\\site-packages (from yfinance) (1.3.4)\n",
      "Requirement already satisfied: multitasking>=0.0.7 in c:\\users\\flavio.bueno\\anaconda3\\lib\\site-packages (from yfinance) (0.0.11)\n",
      "Requirement already satisfied: numpy>=1.15 in c:\\users\\flavio.bueno\\anaconda3\\lib\\site-packages (from yfinance) (1.20.3)\n",
      "Requirement already satisfied: python-dateutil>=2.7.3 in c:\\users\\flavio.bueno\\anaconda3\\lib\\site-packages (from pandas>=0.24.0->yfinance) (2.8.2)\n",
      "Requirement already satisfied: pytz>=2017.3 in c:\\users\\flavio.bueno\\anaconda3\\lib\\site-packages (from pandas>=0.24.0->yfinance) (2021.3)\n",
      "Requirement already satisfied: six>=1.5 in c:\\users\\flavio.bueno\\anaconda3\\lib\\site-packages (from python-dateutil>=2.7.3->pandas>=0.24.0->yfinance) (1.16.0)\n",
      "Requirement already satisfied: urllib3<1.27,>=1.21.1 in c:\\users\\flavio.bueno\\anaconda3\\lib\\site-packages (from requests>=2.26->yfinance) (1.26.7)\n",
      "Requirement already satisfied: certifi>=2017.4.17 in c:\\users\\flavio.bueno\\anaconda3\\lib\\site-packages (from requests>=2.26->yfinance) (2021.10.8)\n",
      "Requirement already satisfied: charset-normalizer~=2.0.0 in c:\\users\\flavio.bueno\\anaconda3\\lib\\site-packages (from requests>=2.26->yfinance) (2.0.4)\n",
      "Requirement already satisfied: idna<4,>=2.5 in c:\\users\\flavio.bueno\\anaconda3\\lib\\site-packages (from requests>=2.26->yfinance) (3.2)\n"
     ]
    }
   ],
   "source": [
    "!pip install yfinance"
   ]
  },
  {
   "cell_type": "code",
   "execution_count": 7,
   "id": "8ac57318",
   "metadata": {},
   "outputs": [],
   "source": [
    "import yfinance"
   ]
  },
  {
   "cell_type": "code",
   "execution_count": 16,
   "id": "b72868e5",
   "metadata": {},
   "outputs": [
    {
     "name": "stdout",
     "output_type": "stream",
     "text": [
      "Digite o código da ação desejada: PETR4.SA\n"
     ]
    },
    {
     "data": {
      "text/plain": [
       "<AxesSubplot:xlabel='Date'>"
      ]
     },
     "execution_count": 16,
     "metadata": {},
     "output_type": "execute_result"
    },
    {
     "data": {
      "image/png": "[encoded data removed]",
      "text/plain": [
       "<Figure size 432x288 with 1 Axes>"
      ]
     },
     "metadata": {
      "needs_background": "light"
     },
     "output_type": "display_data"
    }
   ],
   "source": [
    "ticker = input(\"Digite o código da ação desejada: \")\n",
    "dados = yfinance.Ticker(ticker).history(\"6mo\")\n",
    "fechamento = dados.Close\n",
    "fechamento.plot()"
   ]
  },
  {
   "cell_type": "markdown",
   "id": "23e307b6",
   "metadata": {},
   "source": [
    "# Passo 2\n",
    "\n",
    "Analises: \n",
    "- Cotação maxima\n",
    "- Cotação minima\n",
    "- Cotação atual"
   ]
  },
  {
   "cell_type": "code",
   "execution_count": 33,
   "id": "b11d379d",
   "metadata": {},
   "outputs": [],
   "source": [
    "maxima = fechamento.max()\n",
    "minima = fechamento.min()\n",
    "atual = fechamento[-1]"
   ]
  },
  {
   "cell_type": "markdown",
   "id": "bf3e88f6",
   "metadata": {},
   "source": [
    "# Passo 3\n",
    "\n",
    "- abrir uma nova aba e digitar o endereço do gmail\n",
    "- clicar no botão Escrever\n",
    "- preencher o email do destinatário\n",
    "- preencher o assunto\n",
    "- escrever o email\n",
    "- clicar em enviar"
   ]
  },
  {
   "cell_type": "code",
   "execution_count": 35,
   "id": "f4fb7acf",
   "metadata": {},
   "outputs": [
    {
     "name": "stdout",
     "output_type": "stream",
     "text": [
      "Requirement already satisfied: pyautogui in c:\\users\\flavio.bueno\\anaconda3\\lib\\site-packages (0.9.53)\n",
      "Requirement already satisfied: pyscreeze>=0.1.21 in c:\\users\\flavio.bueno\\anaconda3\\lib\\site-packages (from pyautogui) (0.1.28)\n",
      "Requirement already satisfied: pygetwindow>=0.0.5 in c:\\users\\flavio.bueno\\anaconda3\\lib\\site-packages (from pyautogui) (0.0.9)\n",
      "Requirement already satisfied: mouseinfo in c:\\users\\flavio.bueno\\anaconda3\\lib\\site-packages (from pyautogui) (0.1.3)\n",
      "Requirement already satisfied: pymsgbox in c:\\users\\flavio.bueno\\anaconda3\\lib\\site-packages (from pyautogui) (1.0.9)\n",
      "Requirement already satisfied: PyTweening>=1.0.1 in c:\\users\\flavio.bueno\\anaconda3\\lib\\site-packages (from pyautogui) (1.0.4)\n",
      "Requirement already satisfied: pyrect in c:\\users\\flavio.bueno\\anaconda3\\lib\\site-packages (from pygetwindow>=0.0.5->pyautogui) (0.2.0)\n",
      "Requirement already satisfied: pyperclip in c:\\users\\flavio.bueno\\anaconda3\\lib\\site-packages (from mouseinfo->pyautogui) (1.8.2)\n"
     ]
    }
   ],
   "source": [
    "!pip install pyautogui"
   ]
  },
  {
   "cell_type": "code",
   "execution_count": 36,
   "id": "6562fe51",
   "metadata": {},
   "outputs": [
    {
     "name": "stdout",
     "output_type": "stream",
     "text": [
      "Requirement already satisfied: pyperclip in c:\\users\\flavio.bueno\\anaconda3\\lib\\site-packages (1.8.2)\n"
     ]
    }
   ],
   "source": [
    "!pip install pyperclip"
   ]
  },
  {
   "cell_type": "code",
   "execution_count": 37,
   "id": "3f80104a",
   "metadata": {},
   "outputs": [],
   "source": [
    "import pyperclip"
   ]
  },
  {
   "cell_type": "code",
   "execution_count": 38,
   "id": "b8de7ad3",
   "metadata": {},
   "outputs": [],
   "source": [
    "import pyautogui"
   ]
  },
  {
   "cell_type": "code",
   "execution_count": 72,
   "id": "a219e547",
   "metadata": {},
   "outputs": [],
   "source": [
    "# cria um delay para aguardar o carregamento da pagina\n",
    "pyautogui.PAUSE = 2\n",
    "\n",
    "#abre uma nova aba no navegador\n",
    "pyautogui.hotkey(\"ctrl\",\"t\")\n",
    "\n",
    "#copia o texto para a memória do computador\n",
    "pyperclip.copy(\"www.gmail.com\")\n",
    "\n",
    "#cola o textoacima\n",
    "pyautogui.hotkey(\"ctrl\", \"v\")\n",
    "\n",
    "#digita enter\n",
    "pyautogui.hotkey(\"enter\")\n",
    "\n",
    "\n",
    "#Clica no botão de escrever email\n",
    "pyautogui.click(x=-1527, y=212)\n",
    "\n",
    "pyperclip.copy(\"flavio.bueno@unihospsaude.com.br\")\n",
    "pyautogui.hotkey(\"ctrl\",\"v\")\n",
    "pyautogui.hotkey(\"tab\")\n",
    "\n",
    "\n",
    "pyperclip.copy(\"Analises diárias\")\n",
    "pyautogui.hotkey(\"ctrl\",\"v\")\n",
    "pyautogui.hotkey(\"tab\")\n",
    "\n",
    "mensagem = f\"\"\"\n",
    "Olá Flavio,\n",
    "Esse é um teste de automatização no python com as analises da bolsa da empresa {ticker}\n",
    "\n",
    "Cotação Maxima: R$ {round(maxima, 2)}\n",
    "Cotação Minima: R$ {round(minima, 2)}\n",
    "Cotação Atual: R$ {round(atual, 2)}\n",
    "                \n",
    "\"\"\"\n",
    "pyperclip.copy(mensagem)\n",
    "pyautogui.hotkey(\"ctrl\",\"v\")\n",
    "\n",
    "pyautogui.click(x=-606, y=820)\n"
   ]
  },
  {
   "cell_type": "code",
   "execution_count": null,
   "id": "1592852a",
   "metadata": {},
   "outputs": [],
   "source": [
    "pyautogui.PAUSE = 2\n",
    "\n",
    "\n",
    "pyautogui.hotkey(\"ctrl\",\"t\")\n",
    "pyperclip.copy(\"www.gmail.com\")\n",
    "pyautogui.hotkey(\"ctrl\", \"v\")\n",
    "pyautogui.hotkey(\"enter\")"
   ]
  },
  {
   "cell_type": "code",
   "execution_count": 70,
   "id": "e1568cbe",
   "metadata": {},
   "outputs": [
    {
     "data": {
      "text/plain": [
       "Point(x=-652, y=605)"
      ]
     },
     "execution_count": 70,
     "metadata": {},
     "output_type": "execute_result"
    }
   ],
   "source": [
    "import time\n",
    "\n",
    "#Point(x=-1527, y=212)\n",
    "time.sleep(5)\n",
    "pyautogui.position()"
   ]
  },
  {
   "cell_type": "code",
   "execution_count": null,
   "id": "36d10804",
   "metadata": {},
   "outputs": [],
   "source": []
  },
  {
   "cell_type": "code",
   "execution_count": null,
   "id": "31b84e2b",
   "metadata": {},
   "outputs": [],
   "source": []
  }
 ],
 "metadata": {
  "kernelspec": {
   "display_name": "Python 3 (ipykernel)",
   "language": "python",
   "name": "python3"
  },
  "language_info": {
   "codemirror_mode": {
    "name": "ipython",
    "version": 3
   },
   "file_extension": ".py",
   "mimetype": "text/x-python",
   "name": "python",
   "nbconvert_exporter": "python",
   "pygments_lexer": "ipython3",
   "version": "3.9.7"
  }
 },
 "nbformat": 4,
 "nbformat_minor": 5
}
