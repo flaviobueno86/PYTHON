{
 "cells": [
  {
   "cell_type": "markdown",
   "id": "b6b34cda",
   "metadata": {},
   "source": [
    "# Analises Preditivas"
   ]
  },
  {
   "cell_type": "markdown",
   "id": "61c2ed53",
   "metadata": {},
   "source": [
    "## Carregando dados"
   ]
  },
  {
   "cell_type": "code",
   "execution_count": 2,
   "id": "1ddfe5dc",
   "metadata": {},
   "outputs": [],
   "source": [
    "import yfinance as yf"
   ]
  },
  {
   "cell_type": "code",
   "execution_count": 1,
   "id": "7415b4d4",
   "metadata": {},
   "outputs": [
    {
     "name": "stdout",
     "output_type": "stream",
     "text": [
      "Digite o ticker da ação desejada: PETR4.SA\n"
     ]
    }
   ],
   "source": [
    "ticker = input(\"Digite o ticker da ação desejada: \")"
   ]
  },
  {
   "cell_type": "code",
   "execution_count": 3,
   "id": "541b4b19",
   "metadata": {},
   "outputs": [
    {
     "data": {
      "text/html": [
       "<div>\n",
       "<style scoped>\n",
       "    .dataframe tbody tr th:only-of-type {\n",
       "        vertical-align: middle;\n",
       "    }\n",
       "\n",
       "    .dataframe tbody tr th {\n",
       "        vertical-align: top;\n",
       "    }\n",
       "\n",
       "    .dataframe thead th {\n",
       "        text-align: right;\n",
       "    }\n",
       "</style>\n",
       "<table border=\"1\" class=\"dataframe\">\n",
       "  <thead>\n",
       "    <tr style=\"text-align: right;\">\n",
       "      <th></th>\n",
       "      <th>Open</th>\n",
       "      <th>High</th>\n",
       "      <th>Low</th>\n",
       "      <th>Close</th>\n",
       "      <th>Volume</th>\n",
       "      <th>Dividends</th>\n",
       "      <th>Stock Splits</th>\n",
       "    </tr>\n",
       "    <tr>\n",
       "      <th>Date</th>\n",
       "      <th></th>\n",
       "      <th></th>\n",
       "      <th></th>\n",
       "      <th></th>\n",
       "      <th></th>\n",
       "      <th></th>\n",
       "      <th></th>\n",
       "    </tr>\n",
       "  </thead>\n",
       "  <tbody>\n",
       "    <tr>\n",
       "      <th>2020-12-09 00:00:00-03:00</th>\n",
       "      <td>12.649216</td>\n",
       "      <td>12.810715</td>\n",
       "      <td>12.539966</td>\n",
       "      <td>12.796466</td>\n",
       "      <td>52448300</td>\n",
       "      <td>0.0</td>\n",
       "      <td>0</td>\n",
       "    </tr>\n",
       "    <tr>\n",
       "      <th>2020-12-10 00:00:00-03:00</th>\n",
       "      <td>12.915214</td>\n",
       "      <td>13.394963</td>\n",
       "      <td>12.886714</td>\n",
       "      <td>13.214463</td>\n",
       "      <td>97537100</td>\n",
       "      <td>0.0</td>\n",
       "      <td>0</td>\n",
       "    </tr>\n",
       "    <tr>\n",
       "      <th>2020-12-11 00:00:00-03:00</th>\n",
       "      <td>13.057714</td>\n",
       "      <td>13.223963</td>\n",
       "      <td>12.957964</td>\n",
       "      <td>13.095714</td>\n",
       "      <td>48334300</td>\n",
       "      <td>0.0</td>\n",
       "      <td>0</td>\n",
       "    </tr>\n",
       "    <tr>\n",
       "      <th>2020-12-14 00:00:00-03:00</th>\n",
       "      <td>13.314214</td>\n",
       "      <td>13.428214</td>\n",
       "      <td>13.119465</td>\n",
       "      <td>13.119465</td>\n",
       "      <td>53159500</td>\n",
       "      <td>0.0</td>\n",
       "      <td>0</td>\n",
       "    </tr>\n",
       "    <tr>\n",
       "      <th>2020-12-15 00:00:00-03:00</th>\n",
       "      <td>13.119465</td>\n",
       "      <td>13.295214</td>\n",
       "      <td>13.119465</td>\n",
       "      <td>13.228714</td>\n",
       "      <td>47208200</td>\n",
       "      <td>0.0</td>\n",
       "      <td>0</td>\n",
       "    </tr>\n",
       "    <tr>\n",
       "      <th>...</th>\n",
       "      <td>...</td>\n",
       "      <td>...</td>\n",
       "      <td>...</td>\n",
       "      <td>...</td>\n",
       "      <td>...</td>\n",
       "      <td>...</td>\n",
       "      <td>...</td>\n",
       "    </tr>\n",
       "    <tr>\n",
       "      <th>2022-12-02 00:00:00-03:00</th>\n",
       "      <td>25.690001</td>\n",
       "      <td>26.450001</td>\n",
       "      <td>25.309999</td>\n",
       "      <td>25.910000</td>\n",
       "      <td>66301000</td>\n",
       "      <td>0.0</td>\n",
       "      <td>0</td>\n",
       "    </tr>\n",
       "    <tr>\n",
       "      <th>2022-12-05 00:00:00-03:00</th>\n",
       "      <td>26.000000</td>\n",
       "      <td>26.580000</td>\n",
       "      <td>25.549999</td>\n",
       "      <td>25.620001</td>\n",
       "      <td>56065400</td>\n",
       "      <td>0.0</td>\n",
       "      <td>0</td>\n",
       "    </tr>\n",
       "    <tr>\n",
       "      <th>2022-12-06 00:00:00-03:00</th>\n",
       "      <td>25.820000</td>\n",
       "      <td>26.389999</td>\n",
       "      <td>25.420000</td>\n",
       "      <td>25.639999</td>\n",
       "      <td>74991200</td>\n",
       "      <td>0.0</td>\n",
       "      <td>0</td>\n",
       "    </tr>\n",
       "    <tr>\n",
       "      <th>2022-12-07 00:00:00-03:00</th>\n",
       "      <td>25.340000</td>\n",
       "      <td>26.070000</td>\n",
       "      <td>25.270000</td>\n",
       "      <td>25.350000</td>\n",
       "      <td>57008400</td>\n",
       "      <td>0.0</td>\n",
       "      <td>0</td>\n",
       "    </tr>\n",
       "    <tr>\n",
       "      <th>2022-12-08 00:00:00-03:00</th>\n",
       "      <td>0.000000</td>\n",
       "      <td>0.000000</td>\n",
       "      <td>0.000000</td>\n",
       "      <td>24.780001</td>\n",
       "      <td>0</td>\n",
       "      <td>0.0</td>\n",
       "      <td>0</td>\n",
       "    </tr>\n",
       "  </tbody>\n",
       "</table>\n",
       "<p>496 rows × 7 columns</p>\n",
       "</div>"
      ],
      "text/plain": [
       "                                Open       High        Low      Close  \\\n",
       "Date                                                                    \n",
       "2020-12-09 00:00:00-03:00  12.649216  12.810715  12.539966  12.796466   \n",
       "2020-12-10 00:00:00-03:00  12.915214  13.394963  12.886714  13.214463   \n",
       "2020-12-11 00:00:00-03:00  13.057714  13.223963  12.957964  13.095714   \n",
       "2020-12-14 00:00:00-03:00  13.314214  13.428214  13.119465  13.119465   \n",
       "2020-12-15 00:00:00-03:00  13.119465  13.295214  13.119465  13.228714   \n",
       "...                              ...        ...        ...        ...   \n",
       "2022-12-02 00:00:00-03:00  25.690001  26.450001  25.309999  25.910000   \n",
       "2022-12-05 00:00:00-03:00  26.000000  26.580000  25.549999  25.620001   \n",
       "2022-12-06 00:00:00-03:00  25.820000  26.389999  25.420000  25.639999   \n",
       "2022-12-07 00:00:00-03:00  25.340000  26.070000  25.270000  25.350000   \n",
       "2022-12-08 00:00:00-03:00   0.000000   0.000000   0.000000  24.780001   \n",
       "\n",
       "                             Volume  Dividends  Stock Splits  \n",
       "Date                                                          \n",
       "2020-12-09 00:00:00-03:00  52448300        0.0             0  \n",
       "2020-12-10 00:00:00-03:00  97537100        0.0             0  \n",
       "2020-12-11 00:00:00-03:00  48334300        0.0             0  \n",
       "2020-12-14 00:00:00-03:00  53159500        0.0             0  \n",
       "2020-12-15 00:00:00-03:00  47208200        0.0             0  \n",
       "...                             ...        ...           ...  \n",
       "2022-12-02 00:00:00-03:00  66301000        0.0             0  \n",
       "2022-12-05 00:00:00-03:00  56065400        0.0             0  \n",
       "2022-12-06 00:00:00-03:00  74991200        0.0             0  \n",
       "2022-12-07 00:00:00-03:00  57008400        0.0             0  \n",
       "2022-12-08 00:00:00-03:00         0        0.0             0  \n",
       "\n",
       "[496 rows x 7 columns]"
      ]
     },
     "execution_count": 3,
     "metadata": {},
     "output_type": "execute_result"
    }
   ],
   "source": [
    "acao = yf.Ticker(ticker).history(\"2Y\")\n",
    "acao"
   ]
  },
  {
   "cell_type": "code",
   "execution_count": 4,
   "id": "969aaa39",
   "metadata": {},
   "outputs": [
    {
     "data": {
      "text/plain": [
       "<AxesSubplot:xlabel='Date'>"
      ]
     },
     "execution_count": 4,
     "metadata": {},
     "output_type": "execute_result"
    },
    {
     "data": {
      "image/png": "[encoded data removed]",
      "text/plain": [
       "<Figure size 432x288 with 1 Axes>"
      ]
     },
     "metadata": {
      "needs_background": "light"
     },
     "output_type": "display_data"
    }
   ],
   "source": [
    "acao.Close.plot()"
   ]
  },
  {
   "cell_type": "markdown",
   "id": "a309d8ae",
   "metadata": {},
   "source": [
    "# Tratamento de dados"
   ]
  },
  {
   "cell_type": "code",
   "execution_count": 13,
   "id": "d4cabf52",
   "metadata": {},
   "outputs": [
    {
     "data": {
      "text/html": [
       "<div>\n",
       "<style scoped>\n",
       "    .dataframe tbody tr th:only-of-type {\n",
       "        vertical-align: middle;\n",
       "    }\n",
       "\n",
       "    .dataframe tbody tr th {\n",
       "        vertical-align: top;\n",
       "    }\n",
       "\n",
       "    .dataframe thead th {\n",
       "        text-align: right;\n",
       "    }\n",
       "</style>\n",
       "<table border=\"1\" class=\"dataframe\">\n",
       "  <thead>\n",
       "    <tr style=\"text-align: right;\">\n",
       "      <th></th>\n",
       "      <th>ds</th>\n",
       "      <th>y</th>\n",
       "    </tr>\n",
       "  </thead>\n",
       "  <tbody>\n",
       "    <tr>\n",
       "      <th>0</th>\n",
       "      <td>2020-12-09</td>\n",
       "      <td>12.796466</td>\n",
       "    </tr>\n",
       "    <tr>\n",
       "      <th>1</th>\n",
       "      <td>2020-12-10</td>\n",
       "      <td>13.214463</td>\n",
       "    </tr>\n",
       "    <tr>\n",
       "      <th>2</th>\n",
       "      <td>2020-12-11</td>\n",
       "      <td>13.095714</td>\n",
       "    </tr>\n",
       "    <tr>\n",
       "      <th>3</th>\n",
       "      <td>2020-12-14</td>\n",
       "      <td>13.119465</td>\n",
       "    </tr>\n",
       "    <tr>\n",
       "      <th>4</th>\n",
       "      <td>2020-12-15</td>\n",
       "      <td>13.228714</td>\n",
       "    </tr>\n",
       "    <tr>\n",
       "      <th>...</th>\n",
       "      <td>...</td>\n",
       "      <td>...</td>\n",
       "    </tr>\n",
       "    <tr>\n",
       "      <th>491</th>\n",
       "      <td>2022-12-02</td>\n",
       "      <td>25.910000</td>\n",
       "    </tr>\n",
       "    <tr>\n",
       "      <th>492</th>\n",
       "      <td>2022-12-05</td>\n",
       "      <td>25.620001</td>\n",
       "    </tr>\n",
       "    <tr>\n",
       "      <th>493</th>\n",
       "      <td>2022-12-06</td>\n",
       "      <td>25.639999</td>\n",
       "    </tr>\n",
       "    <tr>\n",
       "      <th>494</th>\n",
       "      <td>2022-12-07</td>\n",
       "      <td>25.350000</td>\n",
       "    </tr>\n",
       "    <tr>\n",
       "      <th>495</th>\n",
       "      <td>2022-12-08</td>\n",
       "      <td>24.780001</td>\n",
       "    </tr>\n",
       "  </tbody>\n",
       "</table>\n",
       "<p>496 rows × 2 columns</p>\n",
       "</div>"
      ],
      "text/plain": [
       "            ds          y\n",
       "0   2020-12-09  12.796466\n",
       "1   2020-12-10  13.214463\n",
       "2   2020-12-11  13.095714\n",
       "3   2020-12-14  13.119465\n",
       "4   2020-12-15  13.228714\n",
       "..         ...        ...\n",
       "491 2022-12-02  25.910000\n",
       "492 2022-12-05  25.620001\n",
       "493 2022-12-06  25.639999\n",
       "494 2022-12-07  25.350000\n",
       "495 2022-12-08  24.780001\n",
       "\n",
       "[496 rows x 2 columns]"
      ]
     },
     "execution_count": 13,
     "metadata": {},
     "output_type": "execute_result"
    }
   ],
   "source": [
    "dados = acao.reset_index()\n",
    "colunas = [\"Date\", \"Close\"]\n",
    "dados = dados[colunas]\n",
    "#Limpa a data completa para apenas data\n",
    "dados[\"Date\"] = dados[\"Date\"].dt.tz_localize(None)\n",
    "#Alterar nome das colunas\n",
    "dados.columns = ['ds', 'y']\n",
    "dados"
   ]
  },
  {
   "cell_type": "markdown",
   "id": "e7be932b",
   "metadata": {},
   "source": [
    "# Treinando o modelo - Prophet"
   ]
  },
  {
   "cell_type": "code",
   "execution_count": 14,
   "id": "41c9b5c4",
   "metadata": {},
   "outputs": [
    {
     "name": "stdout",
     "output_type": "stream",
     "text": [
      "Collecting prophet\n",
      "  Downloading prophet-1.1.1-cp39-cp39-win_amd64.whl (12.1 MB)\n",
      "Requirement already satisfied: numpy>=1.15.4 in c:\\users\\flavio.bueno\\anaconda3\\lib\\site-packages (from prophet) (1.20.3)\n",
      "Requirement already satisfied: python-dateutil>=2.8.0 in c:\\users\\flavio.bueno\\anaconda3\\lib\\site-packages (from prophet) (2.8.2)\n",
      "Collecting convertdate>=2.1.2\n",
      "  Downloading convertdate-2.4.0-py3-none-any.whl (47 kB)\n",
      "Requirement already satisfied: matplotlib>=2.0.0 in c:\\users\\flavio.bueno\\anaconda3\\lib\\site-packages (from prophet) (3.4.3)\n",
      "Collecting LunarCalendar>=0.0.9\n",
      "  Downloading LunarCalendar-0.0.9-py2.py3-none-any.whl (18 kB)\n",
      "Requirement already satisfied: wheel>=0.37.0 in c:\\users\\flavio.bueno\\anaconda3\\lib\\site-packages (from prophet) (0.37.0)\n",
      "Collecting setuptools-git>=1.2\n",
      "  Downloading setuptools_git-1.2-py2.py3-none-any.whl (10 kB)\n",
      "Collecting holidays>=0.14.2\n",
      "  Downloading holidays-0.17.2-py3-none-any.whl (187 kB)\n",
      "Requirement already satisfied: setuptools>=42 in c:\\users\\flavio.bueno\\anaconda3\\lib\\site-packages (from prophet) (58.0.4)\n",
      "Requirement already satisfied: pandas>=1.0.4 in c:\\users\\flavio.bueno\\anaconda3\\lib\\site-packages (from prophet) (1.3.4)\n",
      "Collecting cmdstanpy>=1.0.4\n",
      "  Downloading cmdstanpy-1.0.8-py3-none-any.whl (81 kB)\n",
      "Requirement already satisfied: tqdm>=4.36.1 in c:\\users\\flavio.bueno\\anaconda3\\lib\\site-packages (from prophet) (4.62.3)\n",
      "Collecting numpy>=1.15.4\n",
      "  Downloading numpy-1.23.5-cp39-cp39-win_amd64.whl (14.7 MB)\n",
      "Collecting pymeeus<=1,>=0.3.13\n",
      "  Downloading PyMeeus-0.5.11.tar.gz (5.4 MB)\n",
      "Collecting korean-lunar-calendar\n",
      "  Downloading korean_lunar_calendar-0.3.1-py3-none-any.whl (9.0 kB)\n",
      "Collecting hijri-converter\n",
      "  Downloading hijri_converter-2.2.4-py3-none-any.whl (14 kB)\n",
      "Collecting ephem>=3.7.5.3\n",
      "  Downloading ephem-4.1.3-cp39-cp39-win_amd64.whl (1.4 MB)\n",
      "Requirement already satisfied: pytz in c:\\users\\flavio.bueno\\anaconda3\\lib\\site-packages (from LunarCalendar>=0.0.9->prophet) (2021.3)\n",
      "Requirement already satisfied: kiwisolver>=1.0.1 in c:\\users\\flavio.bueno\\anaconda3\\lib\\site-packages (from matplotlib>=2.0.0->prophet) (1.3.1)\n",
      "Requirement already satisfied: cycler>=0.10 in c:\\users\\flavio.bueno\\anaconda3\\lib\\site-packages (from matplotlib>=2.0.0->prophet) (0.10.0)\n",
      "Requirement already satisfied: pyparsing>=2.2.1 in c:\\users\\flavio.bueno\\anaconda3\\lib\\site-packages (from matplotlib>=2.0.0->prophet) (3.0.4)\n",
      "Requirement already satisfied: pillow>=6.2.0 in c:\\users\\flavio.bueno\\anaconda3\\lib\\site-packages (from matplotlib>=2.0.0->prophet) (8.4.0)\n",
      "Requirement already satisfied: six in c:\\users\\flavio.bueno\\anaconda3\\lib\\site-packages (from cycler>=0.10->matplotlib>=2.0.0->prophet) (1.16.0)\n",
      "Requirement already satisfied: colorama in c:\\users\\flavio.bueno\\anaconda3\\lib\\site-packages (from tqdm>=4.36.1->prophet) (0.4.4)\n",
      "Building wheels for collected packages: pymeeus\n",
      "  Building wheel for pymeeus (setup.py): started\n",
      "  Building wheel for pymeeus (setup.py): finished with status 'done'\n",
      "  Created wheel for pymeeus: filename=PyMeeus-0.5.11-py3-none-any.whl size=730984 sha256=ad0cd94372ca0aa23aef613dae00db534c0c73f23097590cbb933050f525a650\n",
      "  Stored in directory: c:\\users\\flavio.bueno\\appdata\\local\\pip\\cache\\wheels\\33\\3d\\82\\4579e9cca41ff991140b2e050bc6df3a38292f26e4fa06b15d\n",
      "Successfully built pymeeus\n",
      "Installing collected packages: pymeeus, numpy, korean-lunar-calendar, hijri-converter, ephem, convertdate, setuptools-git, LunarCalendar, holidays, cmdstanpy, prophet\n",
      "  Attempting uninstall: numpy\n",
      "    Found existing installation: numpy 1.20.3\n",
      "    Uninstalling numpy-1.20.3:\n",
      "      Successfully uninstalled numpy-1.20.3\n",
      "Successfully installed LunarCalendar-0.0.9 cmdstanpy-1.0.8 convertdate-2.4.0 ephem-4.1.3 hijri-converter-2.2.4 holidays-0.17.2 korean-lunar-calendar-0.3.1 numpy-1.23.5 prophet-1.1.1 pymeeus-0.5.11 setuptools-git-1.2\n"
     ]
    },
    {
     "name": "stderr",
     "output_type": "stream",
     "text": [
      "ERROR: pip's dependency resolver does not currently take into account all the packages that are installed. This behaviour is the source of the following dependency conflicts.\n",
      "daal4py 2021.3.0 requires daal==2021.2.3, which is not installed.\n",
      "scipy 1.7.1 requires numpy<1.23.0,>=1.16.5, but you have numpy 1.23.5 which is incompatible.\n",
      "numba 0.54.1 requires numpy<1.21,>=1.17, but you have numpy 1.23.5 which is incompatible.\n"
     ]
    }
   ],
   "source": [
    "!pip install prophet"
   ]
  },
  {
   "cell_type": "code",
   "execution_count": 16,
   "id": "71f2c82c",
   "metadata": {},
   "outputs": [],
   "source": [
    "#importa a biblioteca\n",
    "from prophet import Prophet\n",
    "from prophet.plot import plot_plotly"
   ]
  },
  {
   "cell_type": "code",
   "execution_count": 17,
   "id": "86741da6",
   "metadata": {},
   "outputs": [
    {
     "name": "stderr",
     "output_type": "stream",
     "text": [
      "10:56:26 - cmdstanpy - INFO - Chain [1] start processing\n",
      "10:56:26 - cmdstanpy - INFO - Chain [1] done processing\n"
     ]
    },
    {
     "data": {
      "text/plain": [
       "<prophet.forecaster.Prophet at 0x1ebb13099a0>"
      ]
     },
     "execution_count": 17,
     "metadata": {},
     "output_type": "execute_result"
    }
   ],
   "source": [
    "modelo = Prophet()\n",
    "#parametros que o prophet espera que as coluna de data se chama = ds, e a coluna que tem os valor que vai prever chamar = Y\n",
    "modelo.fit(dados)"
   ]
  },
  {
   "cell_type": "code",
   "execution_count": null,
   "id": "86e1dddf",
   "metadata": {},
   "outputs": [],
   "source": []
  },
  {
   "cell_type": "code",
   "execution_count": null,
   "id": "19eac64f",
   "metadata": {},
   "outputs": [],
   "source": []
  },
  {
   "cell_type": "code",
   "execution_count": null,
   "id": "5b6a58fa",
   "metadata": {},
   "outputs": [],
   "source": []
  },
  {
   "cell_type": "code",
   "execution_count": null,
   "id": "d0a0cf95",
   "metadata": {},
   "outputs": [],
   "source": []
  },
  {
   "cell_type": "code",
   "execution_count": null,
   "id": "633639e0",
   "metadata": {},
   "outputs": [],
   "source": []
  },
  {
   "cell_type": "code",
   "execution_count": null,
   "id": "4f5a0c7d",
   "metadata": {},
   "outputs": [],
   "source": []
  },
  {
   "cell_type": "code",
   "execution_count": null,
   "id": "21a87f84",
   "metadata": {},
   "outputs": [],
   "source": []
  },
  {
   "cell_type": "code",
   "execution_count": null,
   "id": "eb4014a8",
   "metadata": {},
   "outputs": [],
   "source": []
  },
  {
   "cell_type": "code",
   "execution_count": null,
   "id": "ce966fd2",
   "metadata": {},
   "outputs": [],
   "source": []
  }
 ],
 "metadata": {
  "kernelspec": {
   "display_name": "Python 3 (ipykernel)",
   "language": "python",
   "name": "python3"
  },
  "language_info": {
   "codemirror_mode": {
    "name": "ipython",
    "version": 3
   },
   "file_extension": ".py",
   "mimetype": "text/x-python",
   "name": "python",
   "nbconvert_exporter": "python",
   "pygments_lexer": "ipython3",
   "version": "3.9.7"
  }
 },
 "nbformat": 4,
 "nbformat_minor": 5
}
